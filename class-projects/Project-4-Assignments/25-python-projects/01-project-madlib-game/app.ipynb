{
 "cells": [
  {
   "cell_type": "markdown",
   "metadata": {},
   "source": [
    "Project 1: Mad libs Python Project"
   ]
  },
  {
   "cell_type": "code",
   "execution_count": null,
   "metadata": {},
   "outputs": [
    {
     "name": "stdout",
     "output_type": "stream",
     "text": [
      " Welcome to the Fairy Tale Generator! \n",
      "Fill in the blanks to create your own fairy tale:\n",
      "\n",
      " Your Fairy Tale: \n",
      "\n",
      "    Once upon a time, a fairy named Pari lived in a Golden forest.\n",
      "    One day, Pari met a Unicorn who could Fly.\n",
      "    Together, they found a magical golden key hidden under a glowing mushroom.\n",
      "    The golden key led them to fairy world, where they discovered a land of endless wonder.\n",
      "    From that day on, Pari and the Unicorn ruled fairy world with kindness and magic.\n",
      "    \n"
     ]
    }
   ],
   "source": [
    "import random\n",
    "\n",
    "def mad_libs():\n",
    "    print(\"Welcome to Mad Libs! Fill in the blanks to complete the story.\")\n",
    "    \n",
    "    name = input(\"Enter a name: \")\n",
    "    animal = input(\"Enter an animal: \")\n",
    "    place = input(\"Enter a place: \")\n",
    "    food = input(\"Enter a type of food: \")\n",
    "    verb = input(\"Enter a verb: \")\n",
    "    adjective = input(\"Enter an adjective: \")\n",
    "    \n",
    "    stories = [\n",
    "        f\"One day, {name} went to {place} and saw a {adjective} {animal}. It was eating {food} while trying to {verb}. {name} couldn't believe their eyes!\",\n",
    "        f\"In the heart of {place}, {name} discovered a {adjective} {animal} that loved {food}. Curious, {name} decided to {verb} with it, and they became best friends!\",\n",
    "        f\"{name} had always dreamed of visiting {place}. Upon arrival, they encountered a {adjective} {animal} feasting on {food}. It invited {name} to {verb} along, leading to an unforgettable adventure!\"\n",
    "    ]\n",
    "    \n",
    "    print(\"\\nHere is your Mad Libs story:\")\n",
    "    print(random.choice(stories))\n",
    "\n",
    "if __name__ == \"__main__\":\n",
    "    mad_libs()\n"
   ]
  }
 ],
 "metadata": {
  "kernelspec": {
   "display_name": "python12",
   "language": "python",
   "name": "python3"
  },
  "language_info": {
   "codemirror_mode": {
    "name": "ipython",
    "version": 3
   },
   "file_extension": ".py",
   "mimetype": "text/x-python",
   "name": "python",
   "nbconvert_exporter": "python",
   "pygments_lexer": "ipython3",
   "version": "3.12.0"
  }
 },
 "nbformat": 4,
 "nbformat_minor": 2
}
