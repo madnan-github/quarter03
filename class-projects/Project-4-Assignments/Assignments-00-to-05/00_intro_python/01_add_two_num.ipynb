{
 "cells": [
  {
   "cell_type": "markdown",
   "metadata": {},
   "source": [
    "Problem Statement Write a Python program that takes two integer inputs from the user and calculates their sum. The program should perform the following tasks:\n",
    "\n",
    "Prompt the user to enter the first number.\n",
    "\n",
    "Read the input and convert it to an integer.\n",
    "\n",
    "Prompt the user to enter the second number.\n",
    "\n",
    "Read the input and convert it to an integer.\n",
    "\n",
    "Calculate the sum of the two numbers.\n",
    "\n",
    "Print the total sum with an appropriate message.\n",
    "\n",
    "The provided solution demonstrates a working implementation of this problem, where the main() function guides the user through the process of entering two numbers and displays their sum."
   ]
  },
  {
   "cell_type": "code",
   "execution_count": 1,
   "metadata": {},
   "outputs": [
    {
     "name": "stdout",
     "output_type": "stream",
     "text": [
      "This Program Adds Two Numbers.\n",
      "The sum of 50 and 30 is: 80\n"
     ]
    }
   ],
   "source": [
    "def sum():\n",
    "    print(\"This Program Adds Two Numbers.\")\n",
    "    first_no =int(input(\"Enter first number: \"))\n",
    "    second_no = int(input(\"Enter second number: \"))\n",
    "    total = first_no + second_no\n",
    "    return print(f\"The sum of {first_no} and {second_no} is: {total}\")\n",
    "sum()"
   ]
  }
 ],
 "metadata": {
  "kernelspec": {
   "display_name": "Python 3",
   "language": "python",
   "name": "python3"
  },
  "language_info": {
   "codemirror_mode": {
    "name": "ipython",
    "version": 3
   },
   "file_extension": ".py",
   "mimetype": "text/x-python",
   "name": "python",
   "nbconvert_exporter": "python",
   "pygments_lexer": "ipython3",
   "version": "3.12.0"
  }
 },
 "nbformat": 4,
 "nbformat_minor": 2
}
