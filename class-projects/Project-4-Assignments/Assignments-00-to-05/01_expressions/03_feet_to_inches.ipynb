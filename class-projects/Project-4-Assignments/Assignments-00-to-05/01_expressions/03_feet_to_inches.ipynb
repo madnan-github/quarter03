{
 "cells": [
  {
   "cell_type": "markdown",
   "metadata": {},
   "source": [
    "Problem Statement Converts feet to inches. Feet is an American unit of measurement. There are 12 inches per foot. Foot is the singular, and feet is the plural."
   ]
  },
  {
   "cell_type": "code",
   "execution_count": 2,
   "metadata": {},
   "outputs": [
    {
     "name": "stdout",
     "output_type": "stream",
     "text": [
      "Converts feet to inches\n",
      "That is feet 25.0 = inches 300.0!\n"
     ]
    }
   ],
   "source": [
    "inches_in_foot: int = 12  # Conversion factor. There are 12 inches for 1 foot.\n",
    "print(\"Converts feet to inches\")\n",
    "def main():\n",
    "    feet: float = float(input(\"Enter number of feet: \"))  # Get the number of feet, make sure to cast it to a float!\n",
    "    inches: float = feet * inches_in_foot  # Perform the conversion\n",
    "    print(f\"That is feet {feet} = inches {inches}!\")\n",
    "    \n",
    "if __name__ == '__main__':\n",
    "    main()"
   ]
  }
 ],
 "metadata": {
  "kernelspec": {
   "display_name": "Python 3",
   "language": "python",
   "name": "python3"
  },
  "language_info": {
   "codemirror_mode": {
    "name": "ipython",
    "version": 3
   },
   "file_extension": ".py",
   "mimetype": "text/x-python",
   "name": "python",
   "nbconvert_exporter": "python",
   "pygments_lexer": "ipython3",
   "version": "3.12.0"
  }
 },
 "nbformat": 4,
 "nbformat_minor": 2
}
