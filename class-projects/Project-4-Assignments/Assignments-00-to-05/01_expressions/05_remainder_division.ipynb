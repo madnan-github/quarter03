{
 "cells": [
  {
   "cell_type": "markdown",
   "metadata": {},
   "source": [
    "Problem Statement Ask the user for two numbers, one at a time, and then print the result of dividing the first number by the second and also the remainder of the division.\n",
    "\n",
    "Here's a sample run of the program (user input is in bold italics):\n",
    "Please enter an integer to be divided: 5\n",
    "Please enter an integer to divide by: 3\n",
    "The result of this division is 1 with a remainder of 2"
   ]
  },
  {
   "cell_type": "code",
   "execution_count": null,
   "metadata": {},
   "outputs": [
    {
     "name": "stdout",
     "output_type": "stream",
     "text": [
      "Remainder of the division\n",
      "dividend is :52\n",
      "dividend is :36\n",
      "The result of this division is 1 with a remainder of :16\n"
     ]
    }
   ],
   "source": [
    "def main():\n",
    "    print(\"Remainder of the division\")\n",
    "    # Get the numbers we want to divide\n",
    "    dividend: int = int(input(\"\\033[1;3mPlease enter an integer to be divided:?\\033[0m \"))\n",
    "    divisor: int = int(input(\"\\033[1;3mPlease enter an integer to divide by:?\\033[0m \"))\n",
    "\n",
    "    quotient: int = dividend // divisor  # Divide with no remainder/decimals (integer division)\n",
    "    remainder: int = dividend % divisor  # Get the remainder of the division (modulo)\n",
    "    print(f\"dividend is :{dividend}\")\n",
    "    print(f\"dividend is :{divisor}\")\n",
    "    print(\"The result of this division is \" + str(quotient) + \" with a remainder of: \" + str(remainder))\n",
    "\n",
    "if __name__ == '__main__':\n",
    "    main()"
   ]
  }
 ],
 "metadata": {
  "kernelspec": {
   "display_name": "Python 3",
   "language": "python",
   "name": "python3"
  },
  "language_info": {
   "codemirror_mode": {
    "name": "ipython",
    "version": 3
   },
   "file_extension": ".py",
   "mimetype": "text/x-python",
   "name": "python",
   "nbconvert_exporter": "python",
   "pygments_lexer": "ipython3",
   "version": "3.12.0"
  }
 },
 "nbformat": 4,
 "nbformat_minor": 2
}
