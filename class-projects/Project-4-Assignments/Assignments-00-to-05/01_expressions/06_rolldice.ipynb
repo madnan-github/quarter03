{
 "cells": [
  {
   "cell_type": "markdown",
   "metadata": {},
   "source": [
    "Problem Statement Simulate rolling two dice, and prints results of each roll as well as the total."
   ]
  },
  {
   "cell_type": "code",
   "execution_count": null,
   "metadata": {},
   "outputs": [
    {
     "name": "stdout",
     "output_type": "stream",
     "text": [
      "Dice have 6 sides each.\n",
      "First die: 3\n",
      "Second die: 2\n",
      "Total of two dice: 5\n"
     ]
    }
   ],
   "source": [
    "\n",
    "# Import the random library which lets us simulate random things like dice!\n",
    "import random\n",
    "\n",
    "# Number of sides on each die to roll\n",
    "num_sides: int = 6\n",
    "\n",
    "def main():\n",
    "    # Roll die\n",
    "    die1: int = random.randint(1, num_sides)\n",
    "    die2: int = random.randint(1, num_sides)\n",
    "    \n",
    "    # Get their total\n",
    "    total: int = die1 + die2\n",
    "    \n",
    "    # Print out the results\n",
    "    print(\"Dice have\", num_sides, \"sides each.\")\n",
    "    print(\"First die:\", die1)\n",
    "    print(\"Second die:\", die2)\n",
    "    print(\"Total of two dice:\", total)\n",
    "\n",
    "if __name__ == '__main__':\n",
    "    main()"
   ]
  }
 ],
 "metadata": {
  "kernelspec": {
   "display_name": "Python 3",
   "language": "python",
   "name": "python3"
  },
  "language_info": {
   "codemirror_mode": {
    "name": "ipython",
    "version": 3
   },
   "file_extension": ".py",
   "mimetype": "text/x-python",
   "name": "python",
   "nbconvert_exporter": "python",
   "pygments_lexer": "ipython3",
   "version": "3.12.0"
  }
 },
 "nbformat": 4,
 "nbformat_minor": 2
}
