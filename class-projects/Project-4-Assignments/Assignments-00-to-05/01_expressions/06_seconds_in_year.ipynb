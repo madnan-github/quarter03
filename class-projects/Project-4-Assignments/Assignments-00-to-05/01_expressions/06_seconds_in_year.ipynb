{
 "cells": [
  {
   "cell_type": "markdown",
   "metadata": {},
   "source": [
    "Problem Statement Use Python to calculate the number of seconds in a year, and tell the user what the result is in a nice print statement that looks like this (of course the value 5 should be the calculated number instead):\n",
    "\n",
    "There are 5 seconds in a year!\n",
    "\n",
    "You should use constants for this exercise -- there are 365 days in a year, 24 hours in a day, 60 minutes in an hour, and 60 seconds per minute."
   ]
  },
  {
   "cell_type": "code",
   "execution_count": 1,
   "metadata": {},
   "outputs": [
    {
     "name": "stdout",
     "output_type": "stream",
     "text": [
      "Calculate Time\n",
      "There are 365 Days in a year\n",
      "There are 8760 Hours in a year\n",
      "There are 525600 Minutes in a year\n",
      "There are 31536000 seconds in a year!\n"
     ]
    }
   ],
   "source": [
    "# Useful constants to help make the math easier and cleaner!\n",
    "DAYS_PER_YEAR: int = 365\n",
    "HOURS_PER_DAY: int = 24\n",
    "MIN_PER_HOUR: int = 60\n",
    "SEC_PER_MIN: int = 60\n",
    "hour_per_year : int = DAYS_PER_YEAR * HOURS_PER_DAY\n",
    "min_per_year : int = hour_per_year * MIN_PER_HOUR\n",
    "\n",
    "\n",
    "def main():\n",
    "    print(\"Calculate Time\")\n",
    "    print(f\"There are {DAYS_PER_YEAR} Days in a year\")\n",
    "    print(f\"There are {hour_per_year} Hours in a year\")\n",
    "    print(f\"There are {min_per_year} Minutes in a year\")\n",
    "    # We can get the number of seconds per year by multiplying the handy constants above!\n",
    "    print(\"There are \" + str(DAYS_PER_YEAR * HOURS_PER_DAY * MIN_PER_HOUR * SEC_PER_MIN) + \" seconds in a year!\")\n",
    "    \n",
    "if __name__ == '__main__':\n",
    "    main()"
   ]
  }
 ],
 "metadata": {
  "kernelspec": {
   "display_name": "Python 3",
   "language": "python",
   "name": "python3"
  },
  "language_info": {
   "codemirror_mode": {
    "name": "ipython",
    "version": 3
   },
   "file_extension": ".py",
   "mimetype": "text/x-python",
   "name": "python",
   "nbconvert_exporter": "python",
   "pygments_lexer": "ipython3",
   "version": "3.12.0"
  }
 },
 "nbformat": 4,
 "nbformat_minor": 2
}
