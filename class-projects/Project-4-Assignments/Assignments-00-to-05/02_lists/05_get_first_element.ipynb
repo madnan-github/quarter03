{
 "cells": [
  {
   "cell_type": "markdown",
   "metadata": {},
   "source": [
    "Problem Statement Fill out the function get_first_element(lst) which takes in a list lst as a parameter and prints the first element in the list. The list is guaranteed to be non-empty. We've written some code for you which prompts the user to input the list one element at a time."
   ]
  },
  {
   "cell_type": "code",
   "execution_count": 2,
   "metadata": {},
   "outputs": [
    {
     "name": "stdout",
     "output_type": "stream",
     "text": [
      "unisex\n"
     ]
    }
   ],
   "source": [
    "def get_last_element(lst):\n",
    "    print(lst[-1])\n",
    "\n",
    "# Input from the user with error handling\n",
    "try:\n",
    "    n = int(input(\"Number of elements: \"))\n",
    "    lst = [input(\"Enter element: \") for _ in range(n)]\n",
    "    get_last_element(lst)\n",
    "except ValueError:\n",
    "    print(\"Please enter a valid number.\")\n"
   ]
  }
 ],
 "metadata": {
  "kernelspec": {
   "display_name": "Python 3",
   "language": "python",
   "name": "python3"
  },
  "language_info": {
   "codemirror_mode": {
    "name": "ipython",
    "version": 3
   },
   "file_extension": ".py",
   "mimetype": "text/x-python",
   "name": "python",
   "nbconvert_exporter": "python",
   "pygments_lexer": "ipython3",
   "version": "3.12.0"
  }
 },
 "nbformat": 4,
 "nbformat_minor": 2
}
