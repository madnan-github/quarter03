{
 "cells": [
  {
   "cell_type": "markdown",
   "metadata": {},
   "source": [
    "Problem Statement Fill out the function get_last_element(lst) which takes in a list lst as a parameter and prints the last element in the list. The list is guaranteed to be non-empty, but there are no guarantees on its length."
   ]
  },
  {
   "cell_type": "code",
   "execution_count": null,
   "metadata": {},
   "outputs": [],
   "source": [
    "def get_first_element(lst):\n",
    "    print(lst[0])\n",
    "\n",
    "# Input from the user with error handling\n",
    "try:\n",
    "    n = int(input(\"Number of elements: \"))\n",
    "    lst = [input(\"Enter element: \") for _ in range(n)]\n",
    "    get_first_element(lst)\n",
    "except ValueError:\n",
    "    print(\"Please enter a valid number.\")\n"
   ]
  }
 ],
 "metadata": {
  "kernelspec": {
   "display_name": "Python 3",
   "language": "python",
   "name": "python3"
  },
  "language_info": {
   "name": "python",
   "version": "3.12.0"
  }
 },
 "nbformat": 4,
 "nbformat_minor": 2
}
