{
 "cells": [
  {
   "cell_type": "markdown",
   "metadata": {},
   "source": [
    "Problem Statement Write a program which asks a user for their age and lets them know if they can or can't vote in the following three fictional countries.\n",
    "\n",
    "Around the world, different countries have different voting ages. In the fictional countries of Peturksbouipo, Stanlau, and Mayengua, the voting ages are very different:\n",
    "\n",
    "the voting age in Peturksbouipo is 16 (in real life, this is the voting age in, for example, Scotland, Ethiopia, and Austria)\n",
    "\n",
    "the voting age in Stanlau is 25 (in real life this is the voting age in the United Arab Emirates)\n",
    "\n",
    "the voting age in Mayengua is 48 (in real life, as far as we can tell, this isn't the voting age anywhere)\n",
    "\n",
    "Your code should prompt the for their age and print whether or not they can vote in Peturksbouipo, Stanlau, or Mayengua.\n",
    "\n",
    "Here's a sample run of the program (user input is in blue):\n",
    "\n",
    "How old are you? 20 You can vote in Peturksbouipo where the voting age is 16. You cannot vote in Stanlau where the voting age is 25. You cannot vote in Mayengua where the voting age is 48."
   ]
  },
  {
   "cell_type": "code",
   "execution_count": null,
   "metadata": {},
   "outputs": [
    {
     "name": "stdout",
     "output_type": "stream",
     "text": [
      "\u001b[0mYou can vote in Peturksbouipo where the voting age is 16.\n",
      "You cannot vote in Stanlau where the voting age is 25.\n",
      "You cannot vote in Mayengua where the voting age is 48.\n"
     ]
    }
   ],
   "source": [
    "AGES = {\"Peturksbouipo\": 16, \"Stanlau\": 25, \"Mayengua\": 48}\n",
    "BLUE = '\\033[94m'\n",
    "RESET = '\\033[0m'\n",
    "\n",
    "def main():\n",
    "    age = int(input(f\"How old are you? {BLUE}\"))\n",
    "    print(RESET, end=\"\")  # Reset color after input\n",
    "    for country, voting_age in AGES.items():\n",
    "        print(f\"You {'can' if age >= voting_age else 'cannot'} vote in {country} where the voting age is {voting_age}.\")\n",
    "\n",
    "if __name__ == \"__main__\":\n",
    "    main()\n"
   ]
  }
 ],
 "metadata": {
  "kernelspec": {
   "display_name": "Python 3",
   "language": "python",
   "name": "python3"
  },
  "language_info": {
   "codemirror_mode": {
    "name": "ipython",
    "version": 3
   },
   "file_extension": ".py",
   "mimetype": "text/x-python",
   "name": "python",
   "nbconvert_exporter": "python",
   "pygments_lexer": "ipython3",
   "version": "3.12.0"
  }
 },
 "nbformat": 4,
 "nbformat_minor": 2
}
