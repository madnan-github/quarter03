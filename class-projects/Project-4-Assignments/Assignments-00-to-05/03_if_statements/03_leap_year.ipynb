{
 "cells": [
  {
   "cell_type": "markdown",
   "metadata": {},
   "source": [
    "Problem Statement Write a program that reads a year from the user and tells whether a given year is a leap year or not.\n",
    "\n",
    "A leap year (also known as an intercalary year or bissextile year) is a calendar year that contains an additional day (or, in the case of a lunisolar calendar, a month) added to keep the calendar year synchronized with the astronomical year or seasonal year. In the Gregorian calendar, each leap year has 366 days instead of 365, by extending February to 29 days rather than the common 28.\n",
    "\n",
    "In the Gregorian calendar, three criteria must be checked to identify leap years:\n",
    "\n",
    "The given year must be evenly divisible by 4; If the year can also be evenly divided by 100, it is NOT a leap year; unless: The year is also evenly divisible by 400. Then it is a leap year. Your code should use the above criteria to check for a leap year and then print either \"That's a leap year!\" or \"That's not a leap year.\""
   ]
  },
  {
   "cell_type": "code",
   "execution_count": 1,
   "metadata": {},
   "outputs": [
    {
     "name": "stdout",
     "output_type": "stream",
     "text": [
      "That's a leap year!\n"
     ]
    }
   ],
   "source": [
    "year = int(input(\"Enter a year: \"))\n",
    "\n",
    "if (year % 4 == 0 and year % 100 != 0) or (year % 400 == 0):\n",
    "    print(\"That's a leap year!\")\n",
    "else:\n",
    "    print(\"That's not a leap year.\")"
   ]
  }
 ],
 "metadata": {
  "kernelspec": {
   "display_name": "Python 3",
   "language": "python",
   "name": "python3"
  },
  "language_info": {
   "codemirror_mode": {
    "name": "ipython",
    "version": 3
   },
   "file_extension": ".py",
   "mimetype": "text/x-python",
   "name": "python",
   "nbconvert_exporter": "python",
   "pygments_lexer": "ipython3",
   "version": "3.12.0"
  }
 },
 "nbformat": 4,
 "nbformat_minor": 2
}
