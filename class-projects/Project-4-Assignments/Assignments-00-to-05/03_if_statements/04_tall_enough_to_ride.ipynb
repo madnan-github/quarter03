{
 "cells": [
  {
   "cell_type": "markdown",
   "metadata": {},
   "source": [
    "Problem Statement Write a program which asks the user how tall they are and prints whether or not they're taller than a pre-specified minimum height.\n",
    "\n",
    "In amusement parks (ah, the good old pre-pandemic days...), rollercoasters frequently have minimum height requirements for safety reasons. Assume for now that the minimum height is 50 of whatever height unit you'd like\n",
    "\n",
    "Here's two sample runs (user input is in bold italics):\n",
    "\n",
    "How tall are you? 100\n",
    "\n",
    "You're tall enough to ride!\n",
    "\n",
    "How tall are you? 10\n",
    "\n",
    "You're not tall enough to ride, but maybe next year!\n",
    "\n",
    "(For an extra challenge, write code which will repeatedly ask a user how tall they are and tell them whether or not they're tall enough to ride, until the user doesn't enter a height at all, in which case the program stops. Curious about how to do this? See the function tall_enough_extension() in the solution code!)"
   ]
  },
  {
   "cell_type": "code",
   "execution_count": 7,
   "metadata": {},
   "outputs": [
    {
     "name": "stdout",
     "output_type": "stream",
     "text": [
      "\u001b[0mYou're tall enough to ride!\n",
      "\n",
      "\u001b[0mYou're not tall enough to ride, but maybe next year!\n",
      "\n",
      "\u001b[0mYou're not tall enough to ride, but maybe next year!\n",
      "\n",
      "\u001b[0mYou're tall enough to ride!\n",
      "\n",
      "\u001b[0m"
     ]
    }
   ],
   "source": [
    "MIN_HEIGHT = 50\n",
    "BLUE = '\\033[94m'\n",
    "RESET = '\\033[0m'\n",
    "\n",
    "def tall_enough():\n",
    "    while True:\n",
    "        height = input(f\"How tall are you? {BLUE}\").strip()\n",
    "        print(RESET, end=\"\")  # Reset color after input\n",
    "        if not height:\n",
    "            break\n",
    "        if height.isdigit() and int(height) >= MIN_HEIGHT:\n",
    "            print(\"You're tall enough to ride!\\n\")\n",
    "        elif height.isdigit():\n",
    "            print(\"You're not tall enough to ride, but maybe next year!\\n\")\n",
    "        else:\n",
    "            print(\"Please enter a valid number!\\n\")\n",
    "\n",
    "tall_enough()\n"
   ]
  }
 ],
 "metadata": {
  "kernelspec": {
   "display_name": "Python 3",
   "language": "python",
   "name": "python3"
  },
  "language_info": {
   "codemirror_mode": {
    "name": "ipython",
    "version": 3
   },
   "file_extension": ".py",
   "mimetype": "text/x-python",
   "name": "python",
   "nbconvert_exporter": "python",
   "pygments_lexer": "ipython3",
   "version": "3.12.0"
  }
 },
 "nbformat": 4,
 "nbformat_minor": 2
}
