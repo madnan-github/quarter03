{
 "cells": [
  {
   "cell_type": "markdown",
   "metadata": {},
   "source": [
    "Problem Statement Print 10 random numbers in the range 1 to 100.\n",
    "\n",
    "Here is an example run:\n",
    "\n",
    "45 79 61 47 52 10 16 83 19 12\n",
    "\n",
    "Each time you run your program you should get different numbers\n",
    "\n",
    "81 76 70 1 27 63 96 100 32 92\n",
    "\n",
    "Recall that the python random library has a function randint which returns an integer in the range set by the parameters (inclusive). For example this call would produce a random integer between 1 and 6, which could include 1 and could include 6:\n",
    "\n",
    "value = random.randint(1, 6)"
   ]
  },
  {
   "cell_type": "code",
   "execution_count": null,
   "metadata": {},
   "outputs": [
    {
     "name": "stdout",
     "output_type": "stream",
     "text": [
      "27 75 30 48 53 23 48 7 28 40 "
     ]
    }
   ],
   "source": [
    "import random\n",
    "\n",
    "def print_random_numbers():\n",
    "    # Generate and print 10 random numbers between 1 and 100\n",
    "    for _ in range(10):\n",
    "        random_number = random.randint(1, 100)\n",
    "        print(random_number, end=\" \")\n",
    "\n",
    "print_random_numbers()"
   ]
  }
 ],
 "metadata": {
  "kernelspec": {
   "display_name": "Python 3",
   "language": "python",
   "name": "python3"
  },
  "language_info": {
   "codemirror_mode": {
    "name": "ipython",
    "version": 3
   },
   "file_extension": ".py",
   "mimetype": "text/x-python",
   "name": "python",
   "nbconvert_exporter": "python",
   "pygments_lexer": "ipython3",
   "version": "3.12.0"
  }
 },
 "nbformat": 4,
 "nbformat_minor": 2
}
