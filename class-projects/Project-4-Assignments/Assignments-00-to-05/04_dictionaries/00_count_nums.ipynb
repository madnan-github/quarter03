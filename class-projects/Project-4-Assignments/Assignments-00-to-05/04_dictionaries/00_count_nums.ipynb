{
 "cells": [
  {
   "cell_type": "markdown",
   "metadata": {},
   "source": [
    "Problem Statement This program counts the number of times each number appears in a list. It uses a dictionary to keep track of the information.\n",
    "\n",
    "An example run of the program looks like this (user input is in blue):\n",
    "\n",
    "Enter a number: 3 Enter a number: 4 Enter a number: 3 Enter a number: 6 Enter a number: 4 Enter a number: 3 Enter a number: 12 Enter a number: 3 appears 3 times. 4 appears 2 times. 6 appears 1 times. 12 appears 1 times."
   ]
  },
  {
   "cell_type": "code",
   "execution_count": null,
   "metadata": {},
   "outputs": [
    {
     "name": "stdout",
     "output_type": "stream",
     "text": [
      "3 appears 2 times.\n",
      "6 appears 2 times.\n",
      "4 appears 1 time.\n",
      "2 appears 2 times.\n",
      "1 appears 1 time.\n"
     ]
    }
   ],
   "source": [
    "BLUE = \"\\033[94m\"   # ANSI escape code for blue\n",
    "RESET = \"\\033[0m\" # ANSI escape code to reset text color\n",
    "\n",
    "counts = {}\n",
    "while (num := input(f\"{BLUE}Enter a number: {RESET}\").strip()):\n",
    "    counts[num] = counts.get(num, 0) + 1\n",
    "\n",
    "for num, count in counts.items():\n",
    "    print(f\"{num} appears {count} time{'s' if count > 1 else ''}.\")\n"
   ]
  }
 ],
 "metadata": {
  "kernelspec": {
   "display_name": "python12",
   "language": "python",
   "name": "python3"
  },
  "language_info": {
   "codemirror_mode": {
    "name": "ipython",
    "version": 3
   },
   "file_extension": ".py",
   "mimetype": "text/x-python",
   "name": "python",
   "nbconvert_exporter": "python",
   "pygments_lexer": "ipython3",
   "version": "3.12.0"
  }
 },
 "nbformat": 4,
 "nbformat_minor": 2
}
