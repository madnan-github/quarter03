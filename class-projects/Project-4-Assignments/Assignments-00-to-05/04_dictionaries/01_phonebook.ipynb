{
 "cells": [
  {
   "cell_type": "markdown",
   "metadata": {},
   "source": [
    "Problem Statement In this program we show an example of using dictionaries to keep track of information in a phonebook."
   ]
  },
  {
   "cell_type": "code",
   "execution_count": null,
   "metadata": {},
   "outputs": [
    {
     "name": "stdout",
     "output_type": "stream",
     "text": [
      "Phone Book\n",
      "ali -> 123\n",
      "sara456 -> 456\n",
      "naeem -> 789\n",
      "123\n"
     ]
    }
   ],
   "source": [
    "def create_phonebook():\n",
    "    phonebook = {}\n",
    "    while True:\n",
    "        name = input(\"Enter name (or press Enter to finish): \").strip()\n",
    "        if not name:\n",
    "            break\n",
    "        number = input(\"Enter number: \").strip()\n",
    "        phonebook[name] = number\n",
    "    return phonebook\n",
    "\n",
    "# Example usage\n",
    "book = create_phonebook()\n",
    "print(\"\\nPhonebook:\")\n",
    "for name, number in book.items():\n",
    "    print(f\"{name}: {number}\")\n"
   ]
  }
 ],
 "metadata": {
  "kernelspec": {
   "display_name": "python12",
   "language": "python",
   "name": "python3"
  },
  "language_info": {
   "codemirror_mode": {
    "name": "ipython",
    "version": 3
   },
   "file_extension": ".py",
   "mimetype": "text/x-python",
   "name": "python",
   "nbconvert_exporter": "python",
   "pygments_lexer": "ipython3",
   "version": "3.12.0"
  }
 },
 "nbformat": 4,
 "nbformat_minor": 2
}
