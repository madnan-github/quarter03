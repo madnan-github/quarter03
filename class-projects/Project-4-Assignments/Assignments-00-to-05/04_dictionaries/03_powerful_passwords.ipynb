{
 "cells": [
  {
   "cell_type": "markdown",
   "metadata": {},
   "source": [
    "Problem Statement You want to be safe online and use different passwords for different websites. However, you are forgetful at times and want to make a program that can match which password belongs to which website without storing the actual password!\n",
    "\n",
    "This can be done via something called hashing. Hashing is when we take something and convert it into a different, unique identifier. This is done using a hash function. Luckily, there are several resources that can help us with this.\n",
    "\n",
    "For example, using a hash function called SHA256(...) something as simple as\n",
    "\n",
    "hello\n",
    "\n",
    "can be hashed into a much more complex\n",
    "\n",
    "2cf24dba5fb0a30e26e83b2ac5b9e29e1b161e5c1fa7425e73043362938b9824\n",
    "\n",
    "Fill out the login(...) function for a website that hashes their passwords. Login should return True if an email's stored password hash in stored_logins is the same as the hash of password_to_check.\n",
    "\n",
    "(Hint. You will need to use the provided hash_password(...) function. You don't necessarily need to know how it works, just know that hash_password(...) returns the hash for the password!)"
   ]
  },
  {
   "cell_type": "code",
   "execution_count": null,
   "metadata": {},
   "outputs": [
    {
     "name": "stdout",
     "output_type": "stream",
     "text": [
      "Login successful!\n"
     ]
    }
   ],
   "source": [
    "import hashlib\n",
    "\n",
    "def hash_password(password):\n",
    "    return hashlib.sha256(password.encode()).hexdigest()\n",
    "\n",
    "def login(stored_logins, email, password):\n",
    "    return stored_logins.get(email) == hash_password(password)\n",
    "\n",
    "def main():\n",
    "    stored_logins = {\n",
    "        \"user@gmail.com\": hash_password(\"userpass\"),\n",
    "        \"admin@gmail.com\": hash_password(\"adminpass\"),\n",
    "    }\n",
    "    \n",
    "    email = input(\"Email: \")\n",
    "    password = input(\"Password: \")\n",
    "\n",
    "    print(\"Login successful!\" if login(stored_logins, email, password) else \"Invalid email or password.\")\n",
    "\n",
    "if __name__ == \"__main__\":\n",
    "    main()"
   ]
  }
 ],
 "metadata": {
  "kernelspec": {
   "display_name": "Python 3",
   "language": "python",
   "name": "python3"
  },
  "language_info": {
   "codemirror_mode": {
    "name": "ipython",
    "version": 3
   },
   "file_extension": ".py",
   "mimetype": "text/x-python",
   "name": "python",
   "nbconvert_exporter": "python",
   "pygments_lexer": "ipython3",
   "version": "3.12.0"
  }
 },
 "nbformat": 4,
 "nbformat_minor": 2
}
