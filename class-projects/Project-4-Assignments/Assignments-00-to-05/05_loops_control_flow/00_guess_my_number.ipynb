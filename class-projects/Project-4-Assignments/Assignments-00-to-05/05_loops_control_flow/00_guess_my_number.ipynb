{
 "cells": [
  {
   "cell_type": "markdown",
   "metadata": {},
   "source": [
    "Problem Statement Guess My Number\n",
    "\n",
    "I am thinking of a number between 0 and 99... Enter a guess: 50 Your guess is too high\n",
    "\n",
    "Enter a new number: 25 Your guess is too low\n",
    "\n",
    "Enter a new number: 40 Your guess is too low\n",
    "\n",
    "Enter a new number: 45 Your guess is too low\n",
    "\n",
    "Enter a new number: 48 Congrats! The number was: 48"
   ]
  },
  {
   "cell_type": "code",
   "execution_count": 5,
   "metadata": {},
   "outputs": [
    {
     "name": "stdout",
     "output_type": "stream",
     "text": [
      "I am thinking of a number between 0 and 99...\n",
      "You have 5 guesses to get it right.\n",
      "\n",
      "Your guess is too low\n",
      "\n",
      "Your guess is too low\n",
      "\n",
      "Congrats! The number was: 60\n"
     ]
    }
   ],
   "source": [
    "import random\n",
    "\n",
    "def guess_my_number():\n",
    "    number = random.randint(0, 99)\n",
    "    print(\"I am thinking of a number between 0 and 99...\\nYou have 5 guesses to get it right.\\n\")\n",
    "\n",
    "    for _ in range(5):  # Limit to 10 guesses\n",
    "        try:\n",
    "            guess = int(input(\"Enter a guess: \"))\n",
    "            if guess == number:\n",
    "                print(f\"Congrats! The number was: {number}\")\n",
    "                return\n",
    "            print(\"Your guess is too \" + (\"low\" if guess < number else \"high\") + \"\\n\")\n",
    "        except ValueError:\n",
    "            print(\"Please enter a valid number.\")\n",
    "    \n",
    "    print(f\"Out of guesses! The number was: {number}\")\n",
    "\n",
    "guess_my_number()\n"
   ]
  }
 ],
 "metadata": {
  "kernelspec": {
   "display_name": "Python 3",
   "language": "python",
   "name": "python3"
  },
  "language_info": {
   "codemirror_mode": {
    "name": "ipython",
    "version": 3
   },
   "file_extension": ".py",
   "mimetype": "text/x-python",
   "name": "python",
   "nbconvert_exporter": "python",
   "pygments_lexer": "ipython3",
   "version": "3.12.0"
  }
 },
 "nbformat": 4,
 "nbformat_minor": 2
}
