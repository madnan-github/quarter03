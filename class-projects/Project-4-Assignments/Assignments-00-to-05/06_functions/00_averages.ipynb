{
 "cells": [
  {
   "cell_type": "markdown",
   "metadata": {},
   "source": [
    "Problem Statement Write a function that takes two numbers and finds the average between the two"
   ]
  },
  {
   "cell_type": "code",
   "execution_count": null,
   "metadata": {},
   "outputs": [
    {
     "name": "stdout",
     "output_type": "stream",
     "text": [
      "For Average One\n",
      "For Average Two\n",
      "average1:  7.5\n",
      "average2:  7.5\n",
      "final 7.5\n"
     ]
    }
   ],
   "source": [
    "def averag(a:float, b:float):\n",
    "    return (a+b)/2\n",
    "\n",
    "def main():\n",
    "    print(\"\\nFor Average One\")\n",
    "    average1 = averag(float(input(\"Enter First value: \")), float(input(\"Enter Second value: \")))\n",
    "    print(\"\\nFor Average Two\")\n",
    "    average2 = averag(float(input(\"Enter First value: \")), float(input(\"Enter Second value: \")))\n",
    "    final = averag(average1, average2)\n",
    "\n",
    "    print(\"\\naverage1: \", average1)\n",
    "    print(\"average2: \", average2)\n",
    "    print(\"final\", final)\n",
    "\n",
    "if __name__ == \"__main__\":\n",
    "    main()"
   ]
  }
 ],
 "metadata": {
  "kernelspec": {
   "display_name": "Python 3",
   "language": "python",
   "name": "python3"
  },
  "language_info": {
   "codemirror_mode": {
    "name": "ipython",
    "version": 3
   },
   "file_extension": ".py",
   "mimetype": "text/x-python",
   "name": "python",
   "nbconvert_exporter": "python",
   "pygments_lexer": "ipython3",
   "version": "3.12.0"
  }
 },
 "nbformat": 4,
 "nbformat_minor": 2
}
