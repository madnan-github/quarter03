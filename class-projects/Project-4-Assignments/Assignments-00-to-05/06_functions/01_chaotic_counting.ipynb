{
 "cells": [
  {
   "cell_type": "markdown",
   "metadata": {},
   "source": [
    "Problem Statement Fill out the chaotic_counting() function, which prints the numbers from 1 to 10, but with a catch. We've written a done() function which returns True with likelihood DONE_LIKELIHOOD -- at each number, before printing the number, you should call done() and check if it returns True or not. If done() returns True, we're done counting, and you should use a return statement to end the chaotic_counting() function execution and resume execution of main(), which will print \"I'm done.\". We've written main() for you -- check it out! Notice that we'll only print \"I'm done\" from main() once chaotic_counting() is done with its execution.\n",
    "\n",
    "Here's a sample run of this program:\n",
    "\n",
    "I'm going to count until 10 or until I feel like stopping, whichever comes first. 1 2 3 I'm done."
   ]
  },
  {
   "cell_type": "code",
   "execution_count": 30,
   "metadata": {},
   "outputs": [
    {
     "name": "stdout",
     "output_type": "stream",
     "text": [
      "I'm going to count until 10 or until I feel like stopping, whichever comes first.\n",
      "\n",
      "I'm done.\n"
     ]
    }
   ],
   "source": [
    "import random\n",
    "\n",
    "DONE_LIKELIHOOD = 0.2\n",
    "\n",
    "def done():\n",
    "    return random.random() < DONE_LIKELIHOOD\n",
    "\n",
    "def chaotic_counting():\n",
    "    for i in range(1, 11):\n",
    "        if done():\n",
    "            return\n",
    "        print(i, end=\" \")\n",
    "\n",
    "def main():\n",
    "    print(\"I'm going to count until 10 or until I feel like stopping, whichever comes first.\")\n",
    "    chaotic_counting()\n",
    "    print(\"\\nI'm done.\")\n",
    "\n",
    "if __name__ == \"__main__\":\n",
    "    main()"
   ]
  }
 ],
 "metadata": {
  "kernelspec": {
   "display_name": "Python 3",
   "language": "python",
   "name": "python3"
  },
  "language_info": {
   "codemirror_mode": {
    "name": "ipython",
    "version": 3
   },
   "file_extension": ".py",
   "mimetype": "text/x-python",
   "name": "python",
   "nbconvert_exporter": "python",
   "pygments_lexer": "ipython3",
   "version": "3.12.0"
  }
 },
 "nbformat": 4,
 "nbformat_minor": 2
}
