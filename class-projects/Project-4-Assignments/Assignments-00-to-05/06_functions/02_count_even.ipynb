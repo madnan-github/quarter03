{
 "cells": [
  {
   "cell_type": "markdown",
   "metadata": {},
   "source": [
    "Problem Statement Fill out the function count_even(lst) which\n",
    "\n",
    "first populates a list by prompting the user for integers until they press enter (please use the prompt \"Enter an integer or press enter to stop: \"),\n",
    "\n",
    "and then prints the number of even numbers in the list.\n",
    "\n",
    "If you'd prefer to focus on the second task only, scroll down for our implementation of the first task!"
   ]
  },
  {
   "cell_type": "code",
   "execution_count": 1,
   "metadata": {},
   "outputs": [
    {
     "name": "stdout",
     "output_type": "stream",
     "text": [
      "Number of even numbers: 4\n"
     ]
    }
   ],
   "source": [
    "def count_even():\n",
    "    lst = []\n",
    "    while True:\n",
    "        num = input(\"Enter an integer or press enter to stop: \")\n",
    "        if not num:\n",
    "            break\n",
    "        lst.append(int(num))\n",
    "    \n",
    "    even_count = sum(1 for n in lst if n % 2 == 0)\n",
    "    print(\"Number of even numbers:\", even_count)\n",
    "\n",
    "count_even()\n"
   ]
  }
 ],
 "metadata": {
  "kernelspec": {
   "display_name": "Python 3",
   "language": "python",
   "name": "python3"
  },
  "language_info": {
   "codemirror_mode": {
    "name": "ipython",
    "version": 3
   },
   "file_extension": ".py",
   "mimetype": "text/x-python",
   "name": "python",
   "nbconvert_exporter": "python",
   "pygments_lexer": "ipython3",
   "version": "3.12.0"
  }
 },
 "nbformat": 4,
 "nbformat_minor": 2
}
