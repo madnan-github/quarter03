{
 "cells": [
  {
   "cell_type": "markdown",
   "metadata": {},
   "source": [
    "Problem Statement Fill out the get_name() function to return your name as a string! We've written a main() function for you which calls your function to retrieve your name and then prints it in a greeting.\n",
    "\n",
    "Here's a sample run of the program where the name we've decided to return is Sophia (the autograder expects the returned name to be Sophia):\n",
    "\n",
    "Howdy Sophia ! 🤠"
   ]
  },
  {
   "cell_type": "code",
   "execution_count": 1,
   "metadata": {},
   "outputs": [
    {
     "name": "stdout",
     "output_type": "stream",
     "text": [
      "Hello, Muhammad Adnan!\n"
     ]
    }
   ],
   "source": [
    "def get_name(name:str):\n",
    "    return name\n",
    "\n",
    "def main():\n",
    "    name = input(\"Enter your name: \")\n",
    "    print(f\"Hello, {get_name(name)}!\")\n",
    "\n",
    "if __name__ == \"__main__\":\n",
    "    main()"
   ]
  }
 ],
 "metadata": {
  "kernelspec": {
   "display_name": "Python 3",
   "language": "python",
   "name": "python3"
  },
  "language_info": {
   "codemirror_mode": {
    "name": "ipython",
    "version": 3
   },
   "file_extension": ".py",
   "mimetype": "text/x-python",
   "name": "python",
   "nbconvert_exporter": "python",
   "pygments_lexer": "ipython3",
   "version": "3.12.0"
  }
 },
 "nbformat": 4,
 "nbformat_minor": 2
}
