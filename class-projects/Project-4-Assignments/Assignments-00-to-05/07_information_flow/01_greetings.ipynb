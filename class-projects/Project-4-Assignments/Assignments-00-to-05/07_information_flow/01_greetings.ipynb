{
 "cells": [
  {
   "cell_type": "markdown",
   "metadata": {},
   "source": [
    "Problem Statement We've written a helper function for you called greet(name) which takes as input a string name and prints a greeting. Write some code in main() to get the user's name and then greet them, being sure to call the greet(name) helper function.\n",
    "\n",
    "Here's a sample run of the program (user input in bold italics):\n",
    "\n",
    "What's your name? Sophia\n",
    "\n",
    "Greetings Sophia!"
   ]
  },
  {
   "cell_type": "code",
   "execution_count": null,
   "metadata": {},
   "outputs": [
    {
     "name": "stdout",
     "output_type": "stream",
     "text": [
      "Greetings Muhammad Adna!\n"
     ]
    }
   ],
   "source": [
    "BOLD_ITALIC = '\\033[1;3m'\n",
    "RESET = '\\033[0m'\n",
    "\n",
    "def greet(name):\n",
    "    print(f\"Greetings {name}!\")\n",
    "\n",
    "def main():\n",
    "    name = input(f\"What's your name? {BOLD_ITALIC}\")\n",
    "    greet(RESET+name)\n",
    "\n",
    "if __name__ == \"__main__\":\n",
    "    main()\n"
   ]
  }
 ],
 "metadata": {
  "kernelspec": {
   "display_name": "Python 3",
   "language": "python",
   "name": "python3"
  },
  "language_info": {
   "codemirror_mode": {
    "name": "ipython",
    "version": 3
   },
   "file_extension": ".py",
   "mimetype": "text/x-python",
   "name": "python",
   "nbconvert_exporter": "python",
   "pygments_lexer": "ipython3",
   "version": "3.12.0"
  }
 },
 "nbformat": 4,
 "nbformat_minor": 2
}
