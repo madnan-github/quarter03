{
 "cells": [
  {
   "cell_type": "markdown",
   "metadata": {},
   "source": [
    "Problem Statement Sophia has a fruit store. She has written a function num_in_stock which takes a string fruit as a parameter and returns how many of that fruit are in her inventory. Write code in main() which will:\n",
    "\n",
    "Prompt the user to enter a fruit (\"Enter a fruit: \")\n",
    "\n",
    "Call num_in_stock(fruit) to get the number of that fruit that Sophia has in stock\n",
    "\n",
    "Print the number which are in stock if Sophia has that fruit in her inventory (there are more than 0 in stock)\n",
    "\n",
    "Print \"This fruit is not in stock.\" if Sophia has none of that fruit in her inventory.\n",
    "\n",
    "Here's two sample runs of the program (user input in bold italics):\n",
    "\n",
    "Enter a fruit: pear\n",
    "\n",
    "This fruit is in stock! Here is how many:\n",
    "\n",
    "1000\n",
    "\n",
    "Enter a fruit: lychee\n",
    "\n",
    "This fruit is not in stock."
   ]
  },
  {
   "cell_type": "code",
   "execution_count": null,
   "metadata": {},
   "outputs": [
    {
     "name": "stdout",
     "output_type": "stream",
     "text": [
      "This fruit is not in stock.\n"
     ]
    }
   ],
   "source": [
    "BOLD_ITALIC = '\\033[1;3m'\n",
    "RESET = '\\033[0m'\n",
    "\n",
    "# Sophia's fruit inventory\n",
    "inventory = {\n",
    "    \"apple\": 500,\n",
    "    \"banana\": 200,\n",
    "    \"pear\": 1000,\n",
    "    \"orange\": 300\n",
    "}\n",
    "\n",
    "def num_in_stock(fruit):\n",
    "    \"\"\"Returns the number of the specified fruit in stock.\"\"\"\n",
    "    return inventory.get(fruit.lower(), 0)    \n",
    "\n",
    "def main():\n",
    "    fruit = input(f\"Enter a fruit:{BOLD_ITALIC} \")\n",
    "    \n",
    "    # Get the stock count\n",
    "    count = num_in_stock(fruit)\n",
    "\n",
    "    # Check and print the result\n",
    "    if count > 0:\n",
    "        print(f\"{RESET}This fruit is in stock! Here is how many:\\n\", count)\n",
    "    else:\n",
    "        print(\"This fruit is not in stock.\")\n",
    "\n",
    "if __name__ == \"__main__\":\n",
    "    main()\n"
   ]
  }
 ],
 "metadata": {
  "kernelspec": {
   "display_name": "Python 3",
   "language": "python",
   "name": "python3"
  },
  "language_info": {
   "codemirror_mode": {
    "name": "ipython",
    "version": 3
   },
   "file_extension": ".py",
   "mimetype": "text/x-python",
   "name": "python",
   "nbconvert_exporter": "python",
   "pygments_lexer": "ipython3",
   "version": "3.12.0"
  }
 },
 "nbformat": 4,
 "nbformat_minor": 2
}
