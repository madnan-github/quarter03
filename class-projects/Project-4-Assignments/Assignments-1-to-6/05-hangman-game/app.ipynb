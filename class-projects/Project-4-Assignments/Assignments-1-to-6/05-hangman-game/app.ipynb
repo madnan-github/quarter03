{
 "cells": [
  {
   "cell_type": "code",
   "execution_count": 2,
   "metadata": {},
   "outputs": [
    {
     "name": "stdout",
     "output_type": "stream",
     "text": [
      "You have 6 lives left and you have used these letters:  \n",
      "Current word:  - - - - - - -\n",
      "Letter is not in word.\n",
      "You have 5 lives left and you have used these letters:  E\n",
      "Current word:  - - - - - - -\n",
      "You have 5 lives left and you have used these letters:  E A\n",
      "Current word:  A - - - - - -\n",
      "Letter is not in word.\n",
      "You have 4 lives left and you have used these letters:  E M A\n",
      "Current word:  A - - - - - -\n",
      "Letter is not in word.\n",
      "You have 3 lives left and you have used these letters:  E N M A\n",
      "Current word:  A - - - - - -\n",
      "You have 3 lives left and you have used these letters:  N O E A M\n",
      "Current word:  A - - - - O -\n",
      "You have 3 lives left and you have used these letters:  N O E A M P\n",
      "Current word:  A P - - - O -\n",
      "Letter is not in word.\n",
      "You have 2 lives left and you have used these letters:  N O E A M L P\n",
      "Current word:  A P - - - O -\n",
      "You have 2 lives left and you have used these letters:  N O T E A M L P\n",
      "Current word:  A P - - - O T\n",
      "Letter is not in word.\n",
      "You have 1 lives left and you have used these letters:  N O T S E A M L P\n",
      "Current word:  A P - - - O T\n",
      "You have 1 lives left and you have used these letters:  N O T R S E A M L P\n",
      "Current word:  A P R - - O T\n",
      "Letter is not in word.\n",
      "You died. The word was APRICOT\n"
     ]
    }
   ],
   "source": [
    "import random\n",
    "from fruitsname import words\n",
    "import string\n",
    "\n",
    "def get_valid_word(words):\n",
    "    word = random.choice(words)  # randomly chooses something from the list\n",
    "    while '-' in word or ' ' in word:\n",
    "        word = random.choice(words)\n",
    "    return word\n",
    "\n",
    "def hangman():\n",
    "    word = get_valid_word(words).upper()\n",
    "    word_letters = set(word)  # letters in the word\n",
    "    alphabet = set(string.ascii_uppercase)\n",
    "    used_letters = set()  # what the user has guessed\n",
    "\n",
    "    lives = 6\n",
    "\n",
    "    # getting user input\n",
    "    while len(word_letters) > 0 and lives > 0:\n",
    "        # letters used\n",
    "        print('You have', lives, 'lives left and you have used these letters: ', ' '.join(used_letters))\n",
    "        # what current word is (ie w - ord)\n",
    "        word_list = [letter if letter in used_letters else '-' for letter in word]\n",
    "        print('Current word: ', ' '.join(word_list))\n",
    "\n",
    "        user_letter = input('Guess a letter: ').upper()\n",
    "        if user_letter in alphabet - used_letters:\n",
    "            used_letters.add(user_letter)\n",
    "            if user_letter in word_letters:\n",
    "                word_letters.remove(user_letter)\n",
    "            else:\n",
    "                lives -= 1  # take away a life if wrong\n",
    "                print('Letter is not in word.')\n",
    "\n",
    "        elif user_letter in used_letters:\n",
    "            print('You have already used that character. Please try again.')\n",
    "\n",
    "        else:\n",
    "            print('Invalid character. Please try again.')\n",
    "\n",
    "    # gets here when len(word_letters) == 0 or lives == 0\n",
    "    if lives == 0:\n",
    "        print('You died. The word was', word)\n",
    "    else:\n",
    "        print('Congrates! You guessed the same word:', word)\n",
    "\n",
    "hangman()"
   ]
  }
 ],
 "metadata": {
  "kernelspec": {
   "display_name": "Python 3",
   "language": "python",
   "name": "python3"
  },
  "language_info": {
   "codemirror_mode": {
    "name": "ipython",
    "version": 3
   },
   "file_extension": ".py",
   "mimetype": "text/x-python",
   "name": "python",
   "nbconvert_exporter": "python",
   "pygments_lexer": "ipython3",
   "version": "3.12.0"
  }
 },
 "nbformat": 4,
 "nbformat_minor": 2
}
